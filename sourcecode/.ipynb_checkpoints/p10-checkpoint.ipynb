{
 "cells": [
  {
   "cell_type": "code",
   "execution_count": null,
   "id": "29d5866f-1f56-454d-a9c4-c307a0c51606",
   "metadata": {},
   "outputs": [],
   "source": []
  }
 ],
 "metadata": {
  "kernelspec": {
   "display_name": "Python 3 (ipykernel)",
   "language": "python",
   "name": "python3"
  },
  "language_info": {
   "name": ""
  }
 },
 "nbformat": 4,
 "nbformat_minor": 5
}
