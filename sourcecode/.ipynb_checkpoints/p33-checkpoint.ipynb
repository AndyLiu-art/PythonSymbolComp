{
 "cells": [
  {
   "cell_type": "code",
   "execution_count": null,
   "id": "ae6ecc0f-51a1-42f6-8fa2-813ef7935c86",
   "metadata": {},
   "outputs": [],
   "source": []
  }
 ],
 "metadata": {
  "kernelspec": {
   "display_name": "Python 3 (ipykernel)",
   "language": "python",
   "name": "python3"
  },
  "language_info": {
   "name": ""
  }
 },
 "nbformat": 4,
 "nbformat_minor": 5
}
