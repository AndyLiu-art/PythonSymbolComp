{
 "cells": [
  {
   "cell_type": "code",
   "execution_count": null,
   "id": "214914c5-7ec3-4497-bbcf-ca6319765bca",
   "metadata": {},
   "outputs": [],
   "source": []
  }
 ],
 "metadata": {
  "kernelspec": {
   "display_name": "Python 3 (ipykernel)",
   "language": "python",
   "name": "python3"
  },
  "language_info": {
   "name": ""
  }
 },
 "nbformat": 4,
 "nbformat_minor": 5
}
