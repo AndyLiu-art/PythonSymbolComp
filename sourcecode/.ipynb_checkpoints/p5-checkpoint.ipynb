{
 "cells": [
  {
   "cell_type": "markdown",
   "id": "5904d5fb-0908-45c8-8c69-06a7480e21cc",
   "metadata": {},
   "source": [
    "### 化简表达式"
   ]
  },
  {
   "cell_type": "code",
   "execution_count": 1,
   "id": "d104fdf7-ce2c-47cf-8a7d-4ee0724523f8",
   "metadata": {
    "tags": []
   },
   "outputs": [],
   "source": [
    "from sympy import *\n",
    "# 定义符号\n",
    "x, y, z = symbols(\"x y z\")"
   ]
  },
  {
   "cell_type": "code",
   "execution_count": 2,
   "id": "6e4c2375-f13e-4fc4-9499-75af9095c009",
   "metadata": {
    "tags": []
   },
   "outputs": [
    {
     "data": {
      "text/latex": [
       "$\\displaystyle 1$"
      ],
      "text/plain": [
       "1"
      ]
     },
     "execution_count": 2,
     "metadata": {},
     "output_type": "execute_result"
    }
   ],
   "source": [
    "# 化简表达式\n",
    "simplify(sin(x)**2 + cos(x)**2)"
   ]
  },
  {
   "cell_type": "code",
   "execution_count": 3,
   "id": "a9df8e66-1ad4-47b9-9578-75643cf8d9e0",
   "metadata": {
    "tags": []
   },
   "outputs": [
    {
     "data": {
      "text/latex": [
       "$\\displaystyle x - 1$"
      ],
      "text/plain": [
       "x - 1"
      ]
     },
     "execution_count": 3,
     "metadata": {},
     "output_type": "execute_result"
    }
   ],
   "source": [
    "# 化简表达式\n",
    "simplify((x**3 + x**2 - x - 1)/(x**2 + 2*x + 1))"
   ]
  },
  {
   "cell_type": "code",
   "execution_count": 4,
   "id": "c9064e4d-d171-4738-a450-40e84c6827ea",
   "metadata": {
    "tags": []
   },
   "outputs": [
    {
     "data": {
      "text/latex": [
       "$\\displaystyle \\left(x - 2\\right) \\left(x - 1\\right)$"
      ],
      "text/plain": [
       "(x - 2)*(x - 1)"
      ]
     },
     "execution_count": 4,
     "metadata": {},
     "output_type": "execute_result"
    }
   ],
   "source": [
    "# 化简表达式\n",
    "simplify(gamma(x)/gamma(x - 2))"
   ]
  },
  {
   "cell_type": "code",
   "execution_count": 5,
   "id": "73316ae6-4d90-4fac-9a30-88ff6e0263e7",
   "metadata": {
    "tags": []
   },
   "outputs": [
    {
     "data": {
      "text/latex": [
       "$\\displaystyle x^{2} + 2 x + 1$"
      ],
      "text/plain": [
       "x**2 + 2*x + 1"
      ]
     },
     "execution_count": 5,
     "metadata": {},
     "output_type": "execute_result"
    }
   ],
   "source": [
    "# 化简表达式，无法化简，这是展开后的最简表达式\n",
    "simplify(x**2 + 2*x + 1)"
   ]
  },
  {
   "cell_type": "code",
   "execution_count": null,
   "id": "20de4ae9-b86e-4b82-b496-5be952a03bf7",
   "metadata": {},
   "outputs": [],
   "source": []
  }
 ],
 "metadata": {
  "kernelspec": {
   "display_name": "Python 3 (ipykernel)",
   "language": "python",
   "name": "python3"
  },
  "language_info": {
   "codemirror_mode": {
    "name": "ipython",
    "version": 3
   },
   "file_extension": ".py",
   "mimetype": "text/x-python",
   "name": "python",
   "nbconvert_exporter": "python",
   "pygments_lexer": "ipython3",
   "version": "3.10.10"
  }
 },
 "nbformat": 4,
 "nbformat_minor": 5
}
