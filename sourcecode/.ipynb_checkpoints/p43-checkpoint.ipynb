{
 "cells": [
  {
   "cell_type": "code",
   "execution_count": null,
   "id": "5fb74d4a-d9df-429b-af90-6b55ba24b4a0",
   "metadata": {},
   "outputs": [],
   "source": []
  }
 ],
 "metadata": {
  "kernelspec": {
   "display_name": "Python 3 (ipykernel)",
   "language": "python",
   "name": "python3"
  },
  "language_info": {
   "name": ""
  }
 },
 "nbformat": 4,
 "nbformat_minor": 5
}
