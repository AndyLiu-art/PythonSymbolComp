{
 "cells": [
  {
   "cell_type": "code",
   "execution_count": null,
   "id": "1181b777-3777-4a6a-ba54-e07fad66d79d",
   "metadata": {},
   "outputs": [],
   "source": []
  }
 ],
 "metadata": {
  "kernelspec": {
   "display_name": "Python 3 (ipykernel)",
   "language": "python",
   "name": "python3"
  },
  "language_info": {
   "name": ""
  }
 },
 "nbformat": 4,
 "nbformat_minor": 5
}
