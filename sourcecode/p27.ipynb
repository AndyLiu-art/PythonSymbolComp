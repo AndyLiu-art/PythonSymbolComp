{
 "cells": [
  {
   "cell_type": "markdown",
   "id": "21501864-0b4a-46b2-b305-32354ffd9e0b",
   "metadata": {},
   "source": [
    "### 获取矩阵的某一行或者某一列"
   ]
  },
  {
   "cell_type": "code",
   "execution_count": 1,
   "id": "d7fffc6a-4d18-4817-9dad-dde28fce64a5",
   "metadata": {
    "tags": []
   },
   "outputs": [],
   "source": [
    "from sympy import *"
   ]
  },
  {
   "cell_type": "code",
   "execution_count": 2,
   "id": "d1f3d332-3f99-4509-a559-30984ccf5e5e",
   "metadata": {
    "tags": []
   },
   "outputs": [
    {
     "data": {
      "text/latex": [
       "$\\displaystyle \\left[\\begin{matrix}1 & 2 & 3\\\\-2 & 0 & 4\\end{matrix}\\right]$"
      ],
      "text/plain": [
       "Matrix([\n",
       "[ 1, 2, 3],\n",
       "[-2, 0, 4]])"
      ]
     },
     "execution_count": 2,
     "metadata": {},
     "output_type": "execute_result"
    }
   ],
   "source": [
    "M = Matrix([[1, 2, 3], [-2, 0, 4]])\n",
    "M"
   ]
  },
  {
   "cell_type": "code",
   "execution_count": 3,
   "id": "d39f3c14-1bf6-44fd-9505-609b95978f6d",
   "metadata": {
    "tags": []
   },
   "outputs": [
    {
     "data": {
      "text/latex": [
       "$\\displaystyle \\left[\\begin{matrix}1 & 2 & 3\\end{matrix}\\right]$"
      ],
      "text/plain": [
       "Matrix([[1, 2, 3]])"
      ]
     },
     "execution_count": 3,
     "metadata": {},
     "output_type": "execute_result"
    }
   ],
   "source": [
    "# 第一行\n",
    "M.row(0)"
   ]
  },
  {
   "cell_type": "code",
   "execution_count": 4,
   "id": "3f5500ae-054e-4650-ab86-2dff3d157bd1",
   "metadata": {
    "tags": []
   },
   "outputs": [
    {
     "data": {
      "text/latex": [
       "$\\displaystyle \\left[\\begin{matrix}3\\\\4\\end{matrix}\\right]$"
      ],
      "text/plain": [
       "Matrix([\n",
       "[3],\n",
       "[4]])"
      ]
     },
     "execution_count": 4,
     "metadata": {},
     "output_type": "execute_result"
    }
   ],
   "source": [
    "# 最后一列\n",
    "M.col(-1)"
   ]
  }
 ],
 "metadata": {
  "kernelspec": {
   "display_name": "Python 3 (ipykernel)",
   "language": "python",
   "name": "python3"
  },
  "language_info": {
   "codemirror_mode": {
    "name": "ipython",
    "version": 3
   },
   "file_extension": ".py",
   "mimetype": "text/x-python",
   "name": "python",
   "nbconvert_exporter": "python",
   "pygments_lexer": "ipython3",
   "version": "3.10.10"
  }
 },
 "nbformat": 4,
 "nbformat_minor": 5
}
