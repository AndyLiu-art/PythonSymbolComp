{
 "cells": [
  {
   "cell_type": "markdown",
   "id": "cc1c000c-e80b-487b-bb12-d7a8ec79f1c4",
   "metadata": {
    "tags": []
   },
   "source": [
    "### 求解一元方程"
   ]
  },
  {
   "cell_type": "code",
   "execution_count": 1,
   "id": "6031f013-9fdf-47eb-9185-f33dd715af40",
   "metadata": {
    "tags": []
   },
   "outputs": [],
   "source": [
    "from sympy import *\n",
    "# 定义变量\n",
    "x, y = symbols(\"x y\")"
   ]
  },
  {
   "cell_type": "code",
   "execution_count": 2,
   "id": "cd46f334-324e-4307-8a5a-cfc0f74b51d2",
   "metadata": {
    "tags": []
   },
   "outputs": [
    {
     "data": {
      "text/plain": [
       "[-sqrt(y), sqrt(y)]"
      ]
     },
     "execution_count": 2,
     "metadata": {},
     "output_type": "execute_result"
    }
   ],
   "source": [
    "# 求解方程\n",
    "solve(x**2 - y, x)"
   ]
  },
  {
   "cell_type": "code",
   "execution_count": 3,
   "id": "6962d4d7-0b5c-4940-8e8f-b31350900961",
   "metadata": {
    "tags": []
   },
   "outputs": [
    {
     "data": {
      "text/latex": [
       "$\\displaystyle \\left\\{- \\sqrt{y}, \\sqrt{y}\\right\\}$"
      ],
      "text/plain": [
       "{-sqrt(y), sqrt(y)}"
      ]
     },
     "execution_count": 3,
     "metadata": {},
     "output_type": "execute_result"
    }
   ],
   "source": [
    "solveset(x**2 - y, x)"
   ]
  }
 ],
 "metadata": {
  "kernelspec": {
   "display_name": "Python 3 (ipykernel)",
   "language": "python",
   "name": "python3"
  },
  "language_info": {
   "codemirror_mode": {
    "name": "ipython",
    "version": 3
   },
   "file_extension": ".py",
   "mimetype": "text/x-python",
   "name": "python",
   "nbconvert_exporter": "python",
   "pygments_lexer": "ipython3",
   "version": "3.10.10"
  }
 },
 "nbformat": 4,
 "nbformat_minor": 5
}
