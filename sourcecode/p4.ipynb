{
 "cells": [
  {
   "cell_type": "markdown",
   "id": "4aea1765-5c5b-4b7e-96b7-1d2fc4f14b18",
   "metadata": {
    "tags": []
   },
   "source": [
    "### 对表达式在多个点上求值（不使用循环）"
   ]
  },
  {
   "cell_type": "code",
   "execution_count": 1,
   "id": "cca6dfbe-c4ac-4678-aee6-34b6c92687f4",
   "metadata": {
    "tags": []
   },
   "outputs": [],
   "source": [
    "from sympy import *\n",
    "# 定义符号xyz\n",
    "x, y, z = symbols(\"x y z\")"
   ]
  },
  {
   "cell_type": "code",
   "execution_count": 2,
   "id": "424028f1-28e7-4c3c-aaa0-e6a363ea5878",
   "metadata": {
    "tags": []
   },
   "outputs": [
    {
     "data": {
      "text/plain": [
       "array([ 0.        ,  0.84147098,  0.90929743,  0.14112001, -0.7568025 ,\n",
       "       -0.95892427, -0.2794155 ,  0.6569866 ,  0.98935825,  0.41211849])"
      ]
     },
     "execution_count": 2,
     "metadata": {},
     "output_type": "execute_result"
    }
   ],
   "source": [
    "import numpy as np\n",
    "a = np.arange(10) \n",
    "# 定义表达式\n",
    "expr = sin(x)\n",
    "# 定义函数，输出结果为numpy的数组类型\n",
    "f = lambdify(x, expr, \"numpy\")\n",
    "f(a) "
   ]
  },
  {
   "cell_type": "code",
   "execution_count": 3,
   "id": "d0e51584-1cb2-40fe-a3ae-6bdab98c9181",
   "metadata": {
    "tags": []
   },
   "outputs": [
    {
     "data": {
      "text/plain": [
       "0.09983341664682815"
      ]
     },
     "execution_count": 3,
     "metadata": {},
     "output_type": "execute_result"
    }
   ],
   "source": [
    "# 输出结果为math库的类型\n",
    "f = lambdify(x, expr, \"math\")\n",
    "f(0.1)"
   ]
  }
 ],
 "metadata": {
  "kernelspec": {
   "display_name": "Python 3 (ipykernel)",
   "language": "python",
   "name": "python3"
  },
  "language_info": {
   "codemirror_mode": {
    "name": "ipython",
    "version": 3
   },
   "file_extension": ".py",
   "mimetype": "text/x-python",
   "name": "python",
   "nbconvert_exporter": "python",
   "pygments_lexer": "ipython3",
   "version": "3.10.10"
  }
 },
 "nbformat": 4,
 "nbformat_minor": 5
}
