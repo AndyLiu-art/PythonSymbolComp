{
 "cells": [
  {
   "cell_type": "markdown",
   "id": "f60e8c4f-5466-479b-b6ea-b6ca01735700",
   "metadata": {},
   "source": [
    "### 对数展开"
   ]
  },
  {
   "cell_type": "code",
   "execution_count": 1,
   "id": "d71ee768-7c62-4041-a798-16186719f817",
   "metadata": {
    "tags": []
   },
   "outputs": [],
   "source": [
    "from sympy import *\n",
    "# 定义符号\n",
    "x, y, z = symbols(\"x y z\", positive=True)\n",
    "n = symbols(\"n\", real=True)"
   ]
  },
  {
   "cell_type": "code",
   "execution_count": 2,
   "id": "0aaec304-007b-42c0-87d5-60f720535f94",
   "metadata": {
    "tags": []
   },
   "outputs": [
    {
     "data": {
      "text/latex": [
       "$\\displaystyle \\log{\\left(x \\right)} + \\log{\\left(y \\right)}$"
      ],
      "text/plain": [
       "log(x) + log(y)"
      ]
     },
     "execution_count": 2,
     "metadata": {},
     "output_type": "execute_result"
    }
   ],
   "source": [
    "expand_log(log(x*y))"
   ]
  },
  {
   "cell_type": "code",
   "execution_count": 3,
   "id": "6e9b3f4b-8325-412c-86b6-ec24e36ce0c4",
   "metadata": {
    "tags": []
   },
   "outputs": [
    {
     "data": {
      "text/latex": [
       "$\\displaystyle \\log{\\left(x \\right)} - \\log{\\left(y \\right)}$"
      ],
      "text/plain": [
       "log(x) - log(y)"
      ]
     },
     "execution_count": 3,
     "metadata": {},
     "output_type": "execute_result"
    }
   ],
   "source": [
    "expand_log(log(x/y))"
   ]
  },
  {
   "cell_type": "code",
   "execution_count": 4,
   "id": "24787b25-83f0-4cb4-bd2f-4af54dd66635",
   "metadata": {
    "tags": []
   },
   "outputs": [
    {
     "data": {
      "text/latex": [
       "$\\displaystyle 2 \\log{\\left(x \\right)}$"
      ],
      "text/plain": [
       "2*log(x)"
      ]
     },
     "execution_count": 4,
     "metadata": {},
     "output_type": "execute_result"
    }
   ],
   "source": [
    "expand_log(log(x**2))"
   ]
  },
  {
   "cell_type": "code",
   "execution_count": 5,
   "id": "a12d3b10-461d-4b1d-a889-bce920dd8088",
   "metadata": {
    "tags": []
   },
   "outputs": [
    {
     "data": {
      "text/latex": [
       "$\\displaystyle n \\log{\\left(x \\right)}$"
      ],
      "text/plain": [
       "n*log(x)"
      ]
     },
     "execution_count": 5,
     "metadata": {},
     "output_type": "execute_result"
    }
   ],
   "source": [
    "expand_log(log(x**n))"
   ]
  },
  {
   "cell_type": "code",
   "execution_count": 6,
   "id": "ea6ec0ad-6312-4b92-9c39-7e084a3fe0f5",
   "metadata": {
    "tags": []
   },
   "outputs": [
    {
     "data": {
      "text/latex": [
       "$\\displaystyle 2 \\log{\\left(z \\right)}$"
      ],
      "text/plain": [
       "2*log(z)"
      ]
     },
     "execution_count": 6,
     "metadata": {},
     "output_type": "execute_result"
    }
   ],
   "source": [
    "expand_log(log(z**2), force=True)"
   ]
  }
 ],
 "metadata": {
  "kernelspec": {
   "display_name": "Python 3 (ipykernel)",
   "language": "python",
   "name": "python3"
  },
  "language_info": {
   "codemirror_mode": {
    "name": "ipython",
    "version": 3
   },
   "file_extension": ".py",
   "mimetype": "text/x-python",
   "name": "python",
   "nbconvert_exporter": "python",
   "pygments_lexer": "ipython3",
   "version": "3.10.10"
  }
 },
 "nbformat": 4,
 "nbformat_minor": 5
}
