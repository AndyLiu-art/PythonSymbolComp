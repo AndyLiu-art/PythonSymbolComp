{
 "cells": [
  {
   "cell_type": "markdown",
   "id": "0feb4346-a66c-484d-a894-e1bbbc65ed19",
   "metadata": {},
   "source": [
    "### 对数合并"
   ]
  },
  {
   "cell_type": "code",
   "execution_count": 1,
   "id": "ff3b2bc9-1dfa-4ae9-913b-9f7b9bf1274f",
   "metadata": {
    "tags": []
   },
   "outputs": [],
   "source": [
    "from sympy import *\n",
    "# 定义符号\n",
    "x, y, z = symbols(\"x y z\", positive=True)\n",
    "n = symbols(\"n\", real=True)"
   ]
  },
  {
   "cell_type": "code",
   "execution_count": 2,
   "id": "1c4f55d8-cbca-4c68-b054-f30debd0c9a1",
   "metadata": {
    "tags": []
   },
   "outputs": [
    {
     "data": {
      "text/latex": [
       "$\\displaystyle \\log{\\left(x y \\right)}$"
      ],
      "text/plain": [
       "log(x*y)"
      ]
     },
     "execution_count": 2,
     "metadata": {},
     "output_type": "execute_result"
    }
   ],
   "source": [
    "logcombine(log(x) + log(y))"
   ]
  },
  {
   "cell_type": "code",
   "execution_count": 3,
   "id": "a873a156-d073-4a7a-8b58-8fed74c331f3",
   "metadata": {
    "tags": []
   },
   "outputs": [
    {
     "data": {
      "text/latex": [
       "$\\displaystyle \\log{\\left(x^{n} \\right)}$"
      ],
      "text/plain": [
       "log(x**n)"
      ]
     },
     "execution_count": 3,
     "metadata": {},
     "output_type": "execute_result"
    }
   ],
   "source": [
    "logcombine(n*log(x))"
   ]
  },
  {
   "cell_type": "code",
   "execution_count": 4,
   "id": "cdc62c0e-7fad-461b-8ac1-9cc4ed7ee588",
   "metadata": {
    "tags": []
   },
   "outputs": [
    {
     "data": {
      "text/latex": [
       "$\\displaystyle \\log{\\left(z^{n} \\right)}$"
      ],
      "text/plain": [
       "log(z**n)"
      ]
     },
     "execution_count": 4,
     "metadata": {},
     "output_type": "execute_result"
    }
   ],
   "source": [
    "logcombine(n*log(z))"
   ]
  }
 ],
 "metadata": {
  "kernelspec": {
   "display_name": "Python 3 (ipykernel)",
   "language": "python",
   "name": "python3"
  },
  "language_info": {
   "codemirror_mode": {
    "name": "ipython",
    "version": 3
   },
   "file_extension": ".py",
   "mimetype": "text/x-python",
   "name": "python",
   "nbconvert_exporter": "python",
   "pygments_lexer": "ipython3",
   "version": "3.10.10"
  }
 },
 "nbformat": 4,
 "nbformat_minor": 5
}
