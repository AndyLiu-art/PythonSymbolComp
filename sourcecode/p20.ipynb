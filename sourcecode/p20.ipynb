{
 "cells": [
  {
   "cell_type": "markdown",
   "id": "f92439fb-440d-4791-ac20-d75f44bd3d2f",
   "metadata": {},
   "source": [
    "### 超几何分布函数"
   ]
  },
  {
   "cell_type": "code",
   "execution_count": 1,
   "id": "8e40a805-5440-4cb9-b6c6-5a9a836a826d",
   "metadata": {
    "tags": []
   },
   "outputs": [],
   "source": [
    "from sympy import *\n",
    "# 定义符号\n",
    "x, y, z = symbols(\"x y z\")\n",
    "k, m, n = symbols(\"k m n\")"
   ]
  },
  {
   "cell_type": "code",
   "execution_count": 2,
   "id": "6e07a0e6-4738-45b6-8619-49fdfbe686e1",
   "metadata": {
    "tags": []
   },
   "outputs": [
    {
     "data": {
      "text/latex": [
       "$\\displaystyle {{}_{2}F_{1}\\left(\\begin{matrix} 1, 2 \\\\ 3 \\end{matrix}\\middle| {z} \\right)}$"
      ],
      "text/plain": [
       "hyper((1, 2), (3,), z)"
      ]
     },
     "execution_count": 2,
     "metadata": {},
     "output_type": "execute_result"
    }
   ],
   "source": [
    "hyper([1, 2], [3], z)"
   ]
  },
  {
   "cell_type": "code",
   "execution_count": 3,
   "id": "aab1c2e7-da26-402b-9344-57df1cbc86f6",
   "metadata": {
    "tags": []
   },
   "outputs": [
    {
     "data": {
      "text/latex": [
       "$\\displaystyle - \\frac{2}{z} - \\frac{2 \\log{\\left(1 - z \\right)}}{z^{2}}$"
      ],
      "text/plain": [
       "-2/z - 2*log(1 - z)/z**2"
      ]
     },
     "execution_count": 3,
     "metadata": {},
     "output_type": "execute_result"
    }
   ],
   "source": [
    "# 将上面的函数展开\n",
    "hyperexpand(hyper([1, 2], [3], z))"
   ]
  }
 ],
 "metadata": {
  "kernelspec": {
   "display_name": "Python 3 (ipykernel)",
   "language": "python",
   "name": "python3"
  },
  "language_info": {
   "codemirror_mode": {
    "name": "ipython",
    "version": 3
   },
   "file_extension": ".py",
   "mimetype": "text/x-python",
   "name": "python",
   "nbconvert_exporter": "python",
   "pygments_lexer": "ipython3",
   "version": "3.10.10"
  }
 },
 "nbformat": 4,
 "nbformat_minor": 5
}
