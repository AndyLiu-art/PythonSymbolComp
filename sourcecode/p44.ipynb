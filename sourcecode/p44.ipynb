{
 "cells": [
  {
   "cell_type": "markdown",
   "id": "50742250-4ac2-4162-a799-e358e4728ef0",
   "metadata": {
    "tags": []
   },
   "source": [
    "### 求解微分方程"
   ]
  },
  {
   "cell_type": "code",
   "execution_count": 1,
   "id": "081e4fdf-04c6-40ce-9953-b64c6c1314a9",
   "metadata": {
    "tags": []
   },
   "outputs": [],
   "source": [
    "from sympy import *\n",
    "# 定义变量\n",
    "x, y, z = symbols(\"x y z\")"
   ]
  },
  {
   "cell_type": "code",
   "execution_count": 2,
   "id": "d1ae4966-17b5-4138-9c34-edd3149a84ce",
   "metadata": {
    "tags": []
   },
   "outputs": [
    {
     "data": {
      "text/latex": [
       "$\\displaystyle y{\\left(x \\right)} = C_{1} \\sin{\\left(3 x \\right)} + C_{2} \\cos{\\left(3 x \\right)}$"
      ],
      "text/plain": [
       "Eq(y(x), C1*sin(3*x) + C2*cos(3*x))"
      ]
     },
     "execution_count": 2,
     "metadata": {},
     "output_type": "execute_result"
    }
   ],
   "source": [
    "# 定义函数\n",
    "y = Function(\"y\")\n",
    "# Solve the ODE\n",
    "result = dsolve(Derivative(y(x), x, x) + 9*y(x), y(x))\n",
    "result"
   ]
  },
  {
   "cell_type": "code",
   "execution_count": 3,
   "id": "ff1ab721-7cf2-4575-bd67-a2f7093b20be",
   "metadata": {
    "tags": []
   },
   "outputs": [
    {
     "data": {
      "text/plain": [
       "(True, 0)"
      ]
     },
     "execution_count": 3,
     "metadata": {},
     "output_type": "execute_result"
    }
   ],
   "source": [
    "# 检验结果\n",
    "checkodesol(Derivative(y(x), x, x) + 9*y(x), result)"
   ]
  }
 ],
 "metadata": {
  "kernelspec": {
   "display_name": "Python 3 (ipykernel)",
   "language": "python",
   "name": "python3"
  },
  "language_info": {
   "codemirror_mode": {
    "name": "ipython",
    "version": 3
   },
   "file_extension": ".py",
   "mimetype": "text/x-python",
   "name": "python",
   "nbconvert_exporter": "python",
   "pygments_lexer": "ipython3",
   "version": "3.10.10"
  }
 },
 "nbformat": 4,
 "nbformat_minor": 5
}
