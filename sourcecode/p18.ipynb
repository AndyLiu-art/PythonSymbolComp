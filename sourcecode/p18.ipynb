{
 "cells": [
  {
   "cell_type": "markdown",
   "id": "20613341-9608-4c65-9334-b1fb3e2e8763",
   "metadata": {},
   "source": [
    "### 组合数"
   ]
  },
  {
   "cell_type": "code",
   "execution_count": 1,
   "id": "0aa92a77-7bc0-4e05-8a3f-e18a914b7cb1",
   "metadata": {
    "tags": []
   },
   "outputs": [],
   "source": [
    "from sympy import *\n",
    "# 定义符号\n",
    "x, y, z = symbols(\"x y z\")\n",
    "k, m, n = symbols(\"k m n\")"
   ]
  },
  {
   "cell_type": "code",
   "execution_count": 2,
   "id": "5d11c520-8fc6-49ac-83fc-6a827ffcc593",
   "metadata": {
    "tags": []
   },
   "outputs": [
    {
     "data": {
      "text/latex": [
       "$\\displaystyle {\\binom{n}{k}}$"
      ],
      "text/plain": [
       "binomial(n, k)"
      ]
     },
     "execution_count": 2,
     "metadata": {},
     "output_type": "execute_result"
    }
   ],
   "source": [
    "binomial(n, k)"
   ]
  }
 ],
 "metadata": {
  "kernelspec": {
   "display_name": "Python 3 (ipykernel)",
   "language": "python",
   "name": "python3"
  },
  "language_info": {
   "codemirror_mode": {
    "name": "ipython",
    "version": 3
   },
   "file_extension": ".py",
   "mimetype": "text/x-python",
   "name": "python",
   "nbconvert_exporter": "python",
   "pygments_lexer": "ipython3",
   "version": "3.10.10"
  }
 },
 "nbformat": 4,
 "nbformat_minor": 5
}
