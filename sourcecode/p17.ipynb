{
 "cells": [
  {
   "cell_type": "markdown",
   "id": "79bf40fd-aee9-443a-8fb7-a692fd408ef0",
   "metadata": {},
   "source": [
    "### 阶乘"
   ]
  },
  {
   "cell_type": "code",
   "execution_count": 1,
   "id": "cff88317-96ea-4ac3-b0e0-ba33bbc03a53",
   "metadata": {
    "tags": []
   },
   "outputs": [],
   "source": [
    "from sympy import *\n",
    "# 定义符号\n",
    "x, y, z = symbols(\"x y z\")\n",
    "k, m, n = symbols(\"k m n\")"
   ]
  },
  {
   "cell_type": "code",
   "execution_count": 2,
   "id": "aa86972e-cde2-436c-8df9-dec3d7d62a86",
   "metadata": {
    "tags": []
   },
   "outputs": [
    {
     "data": {
      "text/latex": [
       "$\\displaystyle n!$"
      ],
      "text/plain": [
       "factorial(n)"
      ]
     },
     "execution_count": 2,
     "metadata": {},
     "output_type": "execute_result"
    }
   ],
   "source": [
    "factorial(n)"
   ]
  }
 ],
 "metadata": {
  "kernelspec": {
   "display_name": "Python 3 (ipykernel)",
   "language": "python",
   "name": "python3"
  },
  "language_info": {
   "codemirror_mode": {
    "name": "ipython",
    "version": 3
   },
   "file_extension": ".py",
   "mimetype": "text/x-python",
   "name": "python",
   "nbconvert_exporter": "python",
   "pygments_lexer": "ipython3",
   "version": "3.10.10"
  }
 },
 "nbformat": 4,
 "nbformat_minor": 5
}
