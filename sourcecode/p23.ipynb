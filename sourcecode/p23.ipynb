{
 "cells": [
  {
   "cell_type": "markdown",
   "id": "eff14dc1-c6f2-4f8b-8a6b-6adfa5759072",
   "metadata": {},
   "source": [
    "### 极限"
   ]
  },
  {
   "cell_type": "code",
   "execution_count": 1,
   "id": "82b5f0ad-6a94-420a-bfdb-db26a1d13fbb",
   "metadata": {
    "tags": []
   },
   "outputs": [],
   "source": [
    "from sympy import *\n",
    "x, y, z = symbols(\"x y z\")"
   ]
  },
  {
   "cell_type": "code",
   "execution_count": 2,
   "id": "d47cf820-3e88-43c6-8d7a-e572e2e36ec6",
   "metadata": {
    "tags": []
   },
   "outputs": [
    {
     "data": {
      "text/latex": [
       "$\\displaystyle 1$"
      ],
      "text/plain": [
       "1"
      ]
     },
     "execution_count": 2,
     "metadata": {},
     "output_type": "execute_result"
    }
   ],
   "source": [
    "limit(sin(x)/x, x, 0)"
   ]
  },
  {
   "cell_type": "code",
   "execution_count": 3,
   "id": "7d012ed6-52df-4a06-983e-0f6fbc60c7fa",
   "metadata": {
    "tags": []
   },
   "outputs": [
    {
     "data": {
      "text/latex": [
       "$\\displaystyle \\text{NaN}$"
      ],
      "text/plain": [
       "nan"
      ]
     },
     "execution_count": 3,
     "metadata": {},
     "output_type": "execute_result"
    }
   ],
   "source": [
    "expr = x**2/exp(x)\n",
    "expr.subs(x, oo)"
   ]
  },
  {
   "cell_type": "code",
   "execution_count": 4,
   "id": "18fb7841-5e20-45c3-8a05-1ee334f68260",
   "metadata": {
    "tags": []
   },
   "outputs": [
    {
     "data": {
      "text/latex": [
       "$\\displaystyle 0$"
      ],
      "text/plain": [
       "0"
      ]
     },
     "execution_count": 4,
     "metadata": {},
     "output_type": "execute_result"
    }
   ],
   "source": [
    "limit(expr, x, oo)"
   ]
  },
  {
   "cell_type": "code",
   "execution_count": 5,
   "id": "c1f143b7-b30e-48a2-883b-fbdd0e27e2c3",
   "metadata": {
    "tags": []
   },
   "outputs": [
    {
     "data": {
      "text/latex": [
       "$\\displaystyle \\lim_{x \\to 0^+}\\left(\\frac{\\cos{\\left(x \\right)} - 1}{x}\\right)$"
      ],
      "text/plain": [
       "Limit((cos(x) - 1)/x, x, 0)"
      ]
     },
     "execution_count": 5,
     "metadata": {},
     "output_type": "execute_result"
    }
   ],
   "source": [
    "expr = Limit((cos(x) - 1)/x, x, 0)\n",
    "expr"
   ]
  },
  {
   "cell_type": "code",
   "execution_count": 6,
   "id": "c924530b-813a-4c8d-90da-54683bdd632c",
   "metadata": {
    "tags": []
   },
   "outputs": [
    {
     "data": {
      "text/latex": [
       "$\\displaystyle 0$"
      ],
      "text/plain": [
       "0"
      ]
     },
     "execution_count": 6,
     "metadata": {},
     "output_type": "execute_result"
    }
   ],
   "source": [
    "expr.doit()"
   ]
  },
  {
   "cell_type": "code",
   "execution_count": 7,
   "id": "4803230f-6615-4230-ab9b-7b04541d0a12",
   "metadata": {
    "tags": []
   },
   "outputs": [
    {
     "data": {
      "text/latex": [
       "$\\displaystyle \\infty$"
      ],
      "text/plain": [
       "oo"
      ]
     },
     "execution_count": 7,
     "metadata": {},
     "output_type": "execute_result"
    }
   ],
   "source": [
    "# 右极限\n",
    "limit(1/x, x, 0, '+')"
   ]
  },
  {
   "cell_type": "code",
   "execution_count": 8,
   "id": "bab501d0-ad43-45a7-bd2d-d26202ada53d",
   "metadata": {
    "tags": []
   },
   "outputs": [
    {
     "data": {
      "text/latex": [
       "$\\displaystyle -\\infty$"
      ],
      "text/plain": [
       "-oo"
      ]
     },
     "execution_count": 8,
     "metadata": {},
     "output_type": "execute_result"
    }
   ],
   "source": [
    "# 左极限\n",
    "limit(1/x, x, 0, '-')"
   ]
  }
 ],
 "metadata": {
  "kernelspec": {
   "display_name": "Python 3 (ipykernel)",
   "language": "python",
   "name": "python3"
  },
  "language_info": {
   "codemirror_mode": {
    "name": "ipython",
    "version": 3
   },
   "file_extension": ".py",
   "mimetype": "text/x-python",
   "name": "python",
   "nbconvert_exporter": "python",
   "pygments_lexer": "ipython3",
   "version": "3.10.10"
  }
 },
 "nbformat": 4,
 "nbformat_minor": 5
}
